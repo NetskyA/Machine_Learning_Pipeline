{
  "nbformat": 4,
  "nbformat_minor": 0,
  "metadata": {
    "colab": {
      "provenance": [],
      "authorship_tag": "ABX9TyNxc9r9/Jzvp6JkW6KJ2Uv3",
      "include_colab_link": true
    },
    "kernelspec": {
      "name": "python3",
      "display_name": "Python 3"
    },
    "language_info": {
      "name": "python"
    }
  },
  "cells": [
    {
      "cell_type": "markdown",
      "metadata": {
        "id": "view-in-github",
        "colab_type": "text"
      },
      "source": [
        "<a href=\"https://colab.research.google.com/github/NetskyA/Machine_Learning_Pipeline/blob/main/Pengembangan_Machine_Learning_Pipeline.ipynb\" target=\"_parent\"><img src=\"https://colab.research.google.com/assets/colab-badge.svg\" alt=\"Open In Colab\"/></a>"
      ]
    },
    {
      "cell_type": "code",
      "source": [
        "pip install tfx\n",
        "!pip install matplotlib-venn"
      ],
      "metadata": {
        "id": "fdsYnSqYVEdN"
      },
      "execution_count": null,
      "outputs": []
    },
    {
      "cell_type": "code",
      "execution_count": null,
      "metadata": {
        "id": "jFussKWyQkuB"
      },
      "outputs": [],
      "source": [
        "import os\n",
        "import tensorflow as tf\n",
        "import tfx\n",
        "from tfx.components import CsvExampleGen, StatisticsGen, SchemaGen, ExampleValidator, Transform, Trainer, Evaluator, Pusher\n",
        "from tfx.dsl.components.common.resolver import Resolver\n",
        "from tfx.orchestration.experimental.interactive.interactive_context import InteractiveContext\n",
        "from tfx.orchestration.pipeline import Pipeline\n",
        "from tfx.orchestration.local.local_dag_runner import LocalDagRunner\n",
        "from tfx.orchestration.metadata import sqlite_metadata_connection_config\n",
        "from tfx.proto import example_gen_pb2, trainer_pb2, pusher_pb2\n",
        "from tfx.dsl.experimental import latest_blessed_model_resolver\n",
        "from tfx.types import Channel\n",
        "from tfx.types.standard_artifacts import Model, ModelBlessing\n",
        "from google.protobuf import text_format\n",
        "from tensorflow_metadata.proto.v0 import schema_pb2\n",
        "from tensorflow_model_analysis.proto import config_pb2"
      ]
    },
    {
      "cell_type": "code",
      "source": [
        "# Load dataset\n",
        "DATA_PATH = './sample_data/spam.csv'\n",
        "\n",
        "# Convert CSV to TFRecord format\n",
        "example_gen = CsvExampleGen(input_base=DATA_PATH)\n"
      ],
      "metadata": {
        "id": "WNxlrabxQmMg"
      },
      "execution_count": null,
      "outputs": []
    },
    {
      "cell_type": "code",
      "source": [
        "# Define the base paths\n",
        "pipeline_name = 'AldiAfendiyanto_pipeline'\n",
        "pipeline_root = os.path.join('pipeline_output', pipeline_name)\n",
        "metadata_path = os.path.join(pipeline_root, 'metadata.sqlite')\n",
        "transform_module_file = os.path.join(os.getcwd(), 'sample_data', 'transform_module.py')\n",
        "trainer_module_file = os.path.join(os.getcwd(), 'sample_data', 'trainer_module.py')\n",
        "\n",
        "# Instantiate the components\n",
        "example_gen = CsvExampleGen(input_base='sample_data/spam.csv')\n",
        "\n",
        "statistics_gen = StatisticsGen(examples=example_gen.outputs['examples'])\n",
        "schema_gen = SchemaGen(statistics=statistics_gen.outputs['statistics'], infer_feature_shape=True)\n",
        "example_validator = ExampleValidator(statistics=statistics_gen.outputs['statistics'], schema=schema_gen.outputs['schema'])\n",
        "\n",
        "transform = Transform(\n",
        "    examples=example_gen.outputs['examples'],\n",
        "    schema=schema_gen.outputs['schema'],\n",
        "    module_file=transform_module_file\n",
        ")\n",
        "\n",
        "trainer = Trainer(\n",
        "    module_file=trainer_module_file,\n",
        "    custom_config={'transform_output': transform.outputs['transform_graph']},\n",
        "    examples=transform.outputs['transformed_examples'],\n",
        "    transform_graph=transform.outputs['transform_graph'],\n",
        "    schema=schema_gen.outputs['schema'],\n",
        "    train_args=trainer_pb2.TrainArgs(num_steps=1000),\n",
        "    eval_args=trainer_pb2.EvalArgs(num_steps=500)\n",
        ")\n",
        "\n",
        "resolver = Resolver(\n",
        "    strategy_class=latest_blessed_model_resolver.LatestBlessedModelResolver,\n",
        "    model=Channel(type=Model),\n",
        "    model_blessing=Channel(type=ModelBlessing)\n",
        ")\n",
        "\n",
        "eval_config = config_pb2.EvalConfig(\n",
        "    model_specs=[config_pb2.ModelSpec(label_key='label')],\n",
        "    metrics_specs=[config_pb2.MetricsSpec(\n",
        "        metrics=[config_pb2.MetricConfig(class_name='BinaryAccuracy')],\n",
        "        thresholds={'binary_accuracy': config_pb2.MetricThreshold(\n",
        "            value_threshold=config_pb2.GenericValueThreshold(lower_bound={'value': 0.7})\n",
        "        )}\n",
        "    )]\n",
        ")\n",
        "\n",
        "evaluator = Evaluator(\n",
        "    examples=example_gen.outputs['examples'],\n",
        "    model=trainer.outputs['model'],\n",
        "    eval_config=eval_config\n",
        ")\n",
        "\n",
        "pusher = Pusher(\n",
        "    model=trainer.outputs['model'],\n",
        "    model_blessing=evaluator.outputs['blessing'],\n",
        "    push_destination=pusher_pb2.PushDestination(\n",
        "        filesystem=pusher_pb2.PushDestination.Filesystem(base_directory=os.path.join(pipeline_root, 'model_serving'))\n",
        "    )\n",
        ")\n",
        "\n",
        "# Define the pipeline\n",
        "pipeline = Pipeline(\n",
        "    pipeline_name=pipeline_name,\n",
        "    pipeline_root=pipeline_root,\n",
        "    components=[\n",
        "        example_gen,\n",
        "        statistics_gen,\n",
        "        schema_gen,\n",
        "        example_validator,\n",
        "        transform,\n",
        "        trainer,\n",
        "        resolver,\n",
        "        evaluator,\n",
        "        pusher\n",
        "    ],\n",
        "    metadata_connection_config=sqlite_metadata_connection_config(metadata_path),\n",
        "    enable_cache=True\n",
        ")\n",
        "\n",
        "# Create an InteractiveContext with explicit metadata connection config\n",
        "context = InteractiveContext(pipeline_root=pipeline_root, metadata_connection_config=sqlite_metadata_connection_config(metadata_path))\n",
        "\n",
        "# Run the pipeline\n",
        "context.run(pipeline)"
      ],
      "metadata": {
        "colab": {
          "base_uri": "https://localhost:8080/",
          "height": 143
        },
        "id": "kiZ3KjXeQnBs",
        "outputId": "aea43772-d420-40dd-fdad-7add26aeb9a4"
      },
      "execution_count": null,
      "outputs": [
        {
          "output_type": "execute_result",
          "data": {
            "text/plain": [
              "ExecutionResult(\n",
              "    component_id: AldiAfendiyanto_pipeline\n",
              "    execution_id: 21\n",
              "    outputs:\n",
              ")"
            ],
            "text/html": [
              "<style>\n",
              ".tfx-object.expanded {\n",
              "  padding: 4px 8px 4px 8px;\n",
              "  background: white;\n",
              "  border: 1px solid #bbbbbb;\n",
              "  box-shadow: 4px 4px 2px rgba(0,0,0,0.05);\n",
              "}\n",
              "html[theme=dark] .tfx-object.expanded {\n",
              "  background: black;\n",
              "}\n",
              ".tfx-object, .tfx-object * {\n",
              "  font-size: 11pt;\n",
              "}\n",
              ".tfx-object > .title {\n",
              "  cursor: pointer;\n",
              "}\n",
              ".tfx-object .expansion-marker {\n",
              "  color: #999999;\n",
              "}\n",
              ".tfx-object.expanded > .title > .expansion-marker:before {\n",
              "  content: '▼';\n",
              "}\n",
              ".tfx-object.collapsed > .title > .expansion-marker:before {\n",
              "  content: '▶';\n",
              "}\n",
              ".tfx-object .class-name {\n",
              "  font-weight: bold;\n",
              "}\n",
              ".tfx-object .deemphasize {\n",
              "  opacity: 0.5;\n",
              "}\n",
              ".tfx-object.collapsed > table.attr-table {\n",
              "  display: none;\n",
              "}\n",
              ".tfx-object.expanded > table.attr-table {\n",
              "  display: block;\n",
              "}\n",
              ".tfx-object table.attr-table {\n",
              "  border: 2px solid white;\n",
              "  margin-top: 5px;\n",
              "}\n",
              "html[theme=dark] .tfx-object table.attr-table {\n",
              "  border: 2px solid black;\n",
              "}\n",
              ".tfx-object table.attr-table td.attr-name {\n",
              "  vertical-align: top;\n",
              "  font-weight: bold;\n",
              "}\n",
              ".tfx-object table.attr-table td.attrvalue {\n",
              "  text-align: left;\n",
              "}\n",
              "</style>\n",
              "<script>\n",
              "function toggleTfxObject(element) {\n",
              "  var objElement = element.parentElement;\n",
              "  if (objElement.classList.contains('collapsed')) {\n",
              "    objElement.classList.remove('collapsed');\n",
              "    objElement.classList.add('expanded');\n",
              "  } else {\n",
              "    objElement.classList.add('collapsed');\n",
              "    objElement.classList.remove('expanded');\n",
              "  }\n",
              "}\n",
              "</script>\n",
              "<div class=\"tfx-object expanded\"><div class = \"title\" onclick=\"toggleTfxObject(this)\"><span class=\"expansion-marker\"></span><span class=\"class-name\">ExecutionResult</span><span class=\"deemphasize\"> at 0x788a0175b430</span></div><table class=\"attr-table\"><tr><td class=\"attr-name\">.execution_id</td><td class = \"attrvalue\">21</td></tr><tr><td class=\"attr-name\">.component</td><td class = \"attrvalue\">&lt;tfx.orchestration.pipeline.Pipeline object at 0x788a03a8e7a0&gt;</td></tr><tr><td class=\"attr-name\">.component.inputs</td><td class = \"attrvalue\">{}</td></tr><tr><td class=\"attr-name\">.component.outputs</td><td class = \"attrvalue\">{}</td></tr></table></div>"
            ]
          },
          "metadata": {},
          "execution_count": 57
        }
      ]
    }
  ]
}